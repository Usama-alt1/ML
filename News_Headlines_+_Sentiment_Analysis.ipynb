{
  "nbformat": 4,
  "nbformat_minor": 0,
  "metadata": {
    "colab": {
      "provenance": [],
      "gpuType": "T4",
      "authorship_tag": "ABX9TyPETppXcAsLMe0BJPkRD/vW",
      "include_colab_link": true
    },
    "kernelspec": {
      "name": "python3",
      "display_name": "Python 3"
    },
    "language_info": {
      "name": "python"
    },
    "accelerator": "GPU"
  },
  "cells": [
    {
      "cell_type": "markdown",
      "metadata": {
        "id": "view-in-github",
        "colab_type": "text"
      },
      "source": [
        "<a href=\"https://colab.research.google.com/github/Usama-alt1/ML/blob/web/News_Headlines_%2B_Sentiment_Analysis.ipynb\" target=\"_parent\"><img src=\"https://colab.research.google.com/assets/colab-badge.svg\" alt=\"Open In Colab\"/></a>"
      ]
    },
    {
      "cell_type": "code",
      "execution_count": null,
      "metadata": {
        "id": "0fggb0QP3di8"
      },
      "outputs": [],
      "source": [
        "import requests\n",
        "from bs4 import BeautifulSoup\n",
        "import pandas as pd\n",
        "from textblob import TextBlob\n",
        "import matplotlib.pyplot as plt\n",
        "import seaborn as sns\n",
        "import datetime"
      ]
    },
    {
      "cell_type": "code",
      "source": [
        "def scrape_dawn_headlines(section_url=\"https://www.dawn.com\"):  # Default to homepage\n",
        "    response = requests.get(section_url)\n",
        "    soup = BeautifulSoup(response.text, \"html.parser\")\n",
        "    headlines = []\n",
        "    for tag in soup.find_all(\"h2\", class_=\"story__title\"):\n",
        "        title = tag.get_text(strip=True)\n",
        "        article_link = tag.find(\"a\")[\"href\"]  # Assuming headlines have links\n",
        "        headlines.append({\"title\": title, \"link\": article_link})\n",
        "    df = pd.DataFrame(headlines)\n",
        "    return df"
      ],
      "metadata": {
        "id": "3HAfWkkV4Gvn"
      },
      "execution_count": null,
      "outputs": []
    },
    {
      "cell_type": "code",
      "source": [
        "def analyze_sentiment(df):\n",
        "    sentiments = []\n",
        "    polarities = []\n",
        "\n",
        "    for headline in df[\"Headline\"]:\n",
        "        blob = TextBlob(headline)\n",
        "        polarity = blob.sentiment.polarity\n",
        "        polarities.append(polarity)\n",
        "\n",
        "        if polarity > 0:\n",
        "            sentiments.append(\"Positive\")\n",
        "        elif polarity < 0:\n",
        "            sentiments.append(\"Negative\")\n",
        "        else:\n",
        "            sentiments.append(\"Neutral\")\n",
        "\n",
        "    df[\"Sentiment\"] = [scores[\"compound\"] for scores in sentiments]\n",
        "    df[\"Positive\"] = [scores[\"pos\"] for scores in sentiments]\n",
        "    df[\"Negative\"] = [scores[\"neg\"] for scores in sentiments]\n",
        "    return df"
      ],
      "metadata": {
        "id": "myHVNISh4Iku"
      },
      "execution_count": null,
      "outputs": []
    },
    {
      "cell_type": "code",
      "source": [
        "!pip install nltk\n",
        "import nltk\n",
        "\n",
        "nltk.download('vader_lexicon')\n",
        "\n",
        "from nltk.sentiment.vader import SentimentIntensityAnalyzer\n",
        "\n",
        "analyzer = SentimentIntensityAnalyzer()\n",
        "# Instead of 'Headline', use a sample headline string\n",
        "sample_headline = \"Pakistan wins the cricket match.\"\n",
        "sentiments = analyzer.polarity_scores(sample_headline)\n",
        "print(sentiments)"
      ],
      "metadata": {
        "colab": {
          "base_uri": "https://localhost:8080/"
        },
        "id": "3o-p5CFw4uQ2",
        "outputId": "4bff4249-1711-4981-c946-d1992336234b"
      },
      "execution_count": null,
      "outputs": [
        {
          "output_type": "stream",
          "name": "stdout",
          "text": [
            "Requirement already satisfied: nltk in /usr/local/lib/python3.11/dist-packages (3.9.1)\n",
            "Requirement already satisfied: click in /usr/local/lib/python3.11/dist-packages (from nltk) (8.1.8)\n",
            "Requirement already satisfied: joblib in /usr/local/lib/python3.11/dist-packages (from nltk) (1.4.2)\n",
            "Requirement already satisfied: regex>=2021.8.3 in /usr/local/lib/python3.11/dist-packages (from nltk) (2024.11.6)\n",
            "Requirement already satisfied: tqdm in /usr/local/lib/python3.11/dist-packages (from nltk) (4.67.1)\n"
          ]
        },
        {
          "output_type": "stream",
          "name": "stderr",
          "text": [
            "[nltk_data] Downloading package vader_lexicon to /root/nltk_data...\n"
          ]
        },
        {
          "output_type": "stream",
          "name": "stdout",
          "text": [
            "{'neg': 0.0, 'neu': 0.519, 'pos': 0.481, 'compound': 0.5719}\n"
          ]
        }
      ]
    },
    {
      "cell_type": "code",
      "source": [
        "from nltk.sentiment.vader import SentimentIntensityAnalyzer\n",
        "\n",
        "def analyze_sentiment(df):\n",
        "    analyzer = SentimentIntensityAnalyzer()\n",
        "    sentiments = []\n",
        "\n",
        "\n",
        "    for headline in df[\"title\"]:\n",
        "        scores = analyzer.polarity_scores(headline)\n",
        "        sentiments.append(scores)\n",
        "\n",
        "    df[\"Sentiment\"] = sentiments\n",
        "    return df"
      ],
      "metadata": {
        "id": "Rd1dA2Jq4rGs"
      },
      "execution_count": null,
      "outputs": []
    },
    {
      "cell_type": "code",
      "source": [
        "def visualize_sentiment(df):\n",
        "    sns.set(style=\"whitegrid\")\n",
        "    plt.figure(figsize=(8, 6))\n",
        "    sns.countplot(x=\"Sentiment\", data=df, palette=\"Set2\")\n",
        "    plt.title(\"Sentiment Distribution of Dawn Headlines\")\n",
        "    plt.xlabel(\"Sentiment\")\n",
        "    plt.ylabel(\"Count\")\n",
        "    plt.show()"
      ],
      "metadata": {
        "id": "l88fnq574Lp3"
      },
      "execution_count": null,
      "outputs": []
    },
    {
      "cell_type": "code",
      "source": [
        "def visualize_sentiment(df):\n",
        "    sns.set(style=\"whitegrid\")\n",
        "    plt.figure(figsize=(8, 6))\n",
        "    sns.countplot(x=\"Sentiment\", data=df, palette=\"Set2\")\n",
        "    plt.title(\"Sentiment Distribution of Dawn Headlines\")\n",
        "    plt.xlabel(\"Sentiment\")\n",
        "    plt.ylabel(\"Count\")\n",
        "    plt.show()"
      ],
      "metadata": {
        "id": "LmYo6r9W6UYY"
      },
      "execution_count": null,
      "outputs": []
    },
    {
      "cell_type": "code",
      "source": [
        "import concurrent.futures\n",
        "if __name__ == \"__main__\":\n",
        "    urls = [\"https://www.dawn.com\", \"https://www.dawn.com/business\"]\n",
        "    with concurrent.futures.ThreadPoolExecutor() as executor:\n",
        "        results = list(executor.map(scrape_dawn_headlines, urls))\n",
        "\n",
        "    headlines_df_homepage = results[0]\n",
        "    headlines_df_business = results[1]\n",
        "    print(\"🧠 Analyzing sentiment...\")\n",
        "\n",
        "    analyzed_df = analyze_sentiment(headlines_df_homepage)\n",
        "\n",
        "    print(analyzed_df.head())\n",
        "\n",
        "    print(\"📊 Visualizing sentiment...\")\n",
        "    # visualize_sentiment(analyzed_df)\n",
        "\n",
        "    print(\"💾 Saving analysis results...\")\n",
        "    analyzed_df.to_csv(\"dawn_sentiment_analysis.csv\", index=False)\n"
      ],
      "metadata": {
        "colab": {
          "base_uri": "https://localhost:8080/"
        },
        "id": "Rd3zN6KI4OrG",
        "outputId": "9a6097af-8566-4485-c969-63bdd669d41f"
      },
      "execution_count": null,
      "outputs": [
        {
          "output_type": "stream",
          "name": "stdout",
          "text": [
            "🧠 Analyzing sentiment...\n",
            "                                               title  \\\n",
            "0                End of live blog for elections 2024   \n",
            "1  Scrutiny concludes for nomination papers of 48...   \n",
            "2        ECP notifies Mahmood Khan as PTI-P chairman   \n",
            "3  Gaza death toll climbs to 50,912 after Israeli...   \n",
            "4  PSL 10 formally begins with glitzy opening cer...   \n",
            "\n",
            "                                                link  \\\n",
            "0                       /live/elections-2024#1822566   \n",
            "1                       /live/elections-2024#1822564   \n",
            "2                       /live/elections-2024#1822561   \n",
            "3            https://www.dawn.com/live/gaza-invasion   \n",
            "4  https://www.dawn.com/news/1903543/psl-10-forma...   \n",
            "\n",
            "                                           Sentiment  \n",
            "0  {'neg': 0.0, 'neu': 1.0, 'pos': 0.0, 'compound...  \n",
            "1  {'neg': 0.0, 'neu': 1.0, 'pos': 0.0, 'compound...  \n",
            "2  {'neg': 0.0, 'neu': 1.0, 'pos': 0.0, 'compound...  \n",
            "3  {'neg': 0.402, 'neu': 0.598, 'pos': 0.0, 'comp...  \n",
            "4  {'neg': 0.0, 'neu': 1.0, 'pos': 0.0, 'compound...  \n",
            "📊 Visualizing sentiment...\n",
            "💾 Saving analysis results...\n",
            "✅ Analysis complete! Results saved to 'dawn_sentiment_analysis.csv'\n"
          ]
        }
      ]
    },
    {
      "cell_type": "code",
      "source": [],
      "metadata": {
        "id": "bVKZ12tzpmU1"
      },
      "execution_count": null,
      "outputs": []
    }
  ]
}